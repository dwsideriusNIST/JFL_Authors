{
 "cells": [
  {
   "cell_type": "code",
   "execution_count": 2,
   "metadata": {
    "collapsed": true
   },
   "outputs": [],
   "source": [
    "import json\n",
    "import unicodedata\n",
    "import requests\n",
    "import pprint"
   ]
  },
  {
   "cell_type": "code",
   "execution_count": 4,
   "metadata": {
    "collapsed": false
   },
   "outputs": [
    {
     "data": {
      "text/html": [
       "<style>.container { width:100% !important; }</style>"
      ],
      "text/plain": [
       "<IPython.core.display.HTML object>"
      ]
     },
     "metadata": {},
     "output_type": "display_data"
    }
   ],
   "source": [
    "from IPython.core.display import display, HTML\n",
    "display(HTML(\"<style>.container { width:100% !important; }</style>\"))"
   ]
  },
  {
   "cell_type": "code",
   "execution_count": 3,
   "metadata": {
    "collapsed": false,
    "scrolled": true
   },
   "outputs": [
    {
     "name": "stdout",
     "output_type": "stream",
     "text": [
      "{'DOI': '10.1021/la034766z',\n",
      " 'ISSN': ['0743-7463', '1520-5827'],\n",
      " 'URL': 'http://dx.doi.org/10.1021/La034766z',\n",
      " 'alternative-id': ['10.1021/la034766z'],\n",
      " 'author': [{'affiliation': [], 'family': 'Lu', 'given': 'Linghong'},\n",
      "            {'affiliation': [], 'family': 'Wang', 'given': 'Qi'},\n",
      "            {'affiliation': [], 'family': 'Liu', 'given': 'Yingchun'}],\n",
      " 'container-title': 'Langmuir',\n",
      " 'content-domain': {'crossmark-restriction': False, 'domain': []},\n",
      " 'created': {'date-parts': [[2003, 12, 2]],\n",
      "             'date-time': '2003-12-02T12:04:25Z',\n",
      "             'timestamp': 1070366665000},\n",
      " 'deposited': {'date-parts': [[2016, 9, 2]],\n",
      "               'date-time': '2016-09-02T02:32:59Z',\n",
      "               'timestamp': 1472783579000},\n",
      " 'indexed': {'date-parts': [[2017, 5, 28]],\n",
      "             'date-time': '2017-05-28T17:40:33Z',\n",
      "             'timestamp': 1495993233881},\n",
      " 'is-referenced-by-count': 17,\n",
      " 'issn-type': [{'type': 'print', 'value': '0743-7463'},\n",
      "               {'type': 'electronic', 'value': '1520-5827'}],\n",
      " 'issue': '25',\n",
      " 'issued': {'date-parts': [[2003, 12]]},\n",
      " 'member': '316',\n",
      " 'original-title': [],\n",
      " 'page': '10617-10623',\n",
      " 'prefix': '10.1021',\n",
      " 'published-print': {'date-parts': [[2003, 12]]},\n",
      " 'publisher': 'American Chemical Society (ACS)',\n",
      " 'reference-count': 0,\n",
      " 'references-count': 0,\n",
      " 'relation': {},\n",
      " 'score': 1.0,\n",
      " 'short-container-title': ['Langmuir'],\n",
      " 'short-title': [],\n",
      " 'source': 'Crossref',\n",
      " 'subject': ['Spectroscopy',\n",
      "             'Electrochemistry',\n",
      "             'Materials Science(all)',\n",
      "             'Surfaces and Interfaces',\n",
      "             'Condensed Matter Physics'],\n",
      " 'subtitle': [],\n",
      " 'title': 'Adsorption and Separation of Ternary and Quaternary Mixtures of '\n",
      "          'Short Linear Alkanes in Zeolites by Molecular Simulation',\n",
      " 'type': 'journal-article',\n",
      " 'volume': '19'}\n"
     ]
    }
   ],
   "source": [
    "DOI = \"10.1021/La034766z\"\n",
    "try:\n",
    "    url = 'http://dx.doi.org/'+DOI\n",
    "    headers = {'Accept': 'application/citeproc+json'} # JSON Headers\n",
    "    bib_info = json.loads(requests.get(url, headers=headers).content)\n",
    "except:\n",
    "    raise RuntimeError(\"ERROR: DOI problem for : \"+DOI)\n",
    "\n",
    "pprint.pprint(bib_info)\n",
    "    \n",
    "#title = bib_info[\"title\"].encode(\"utf-8\")\n",
    "#authors = bib_info[\"authors\"]\n",
    "#UNICODE_FORM = 'NFKC'\n",
    "#TEXTENCODE = 'utf-8'\n",
    "#\n",
    "#for author in authors:\n",
    "#     print \n",
    "#unicodedata.normalize(UNICODE_FORM,author[\"given\"]).encode(TEXTENCODE), \n",
    "#unicodedata.normalize(UNICODE_FORM,author[\"middle\"]).encode(TEXTENCODE), \n",
    "#unicodedata.normalize(UNICODE_FORM,author[\"family\"]).encode(TEXTENCODE)"
   ]
  }
 ],
 "metadata": {
  "kernelspec": {
   "display_name": "Python 3",
   "language": "python",
   "name": "python3"
  },
  "language_info": {
   "codemirror_mode": {
    "name": "ipython",
    "version": 3
   },
   "file_extension": ".py",
   "mimetype": "text/x-python",
   "name": "python",
   "nbconvert_exporter": "python",
   "pygments_lexer": "ipython3",
   "version": "3.6.0"
  }
 },
 "nbformat": 4,
 "nbformat_minor": 2
}
