{
 "cells": [
  {
   "cell_type": "code",
   "execution_count": 1,
   "metadata": {
    "collapsed": false
   },
   "outputs": [],
   "source": [
    "#import MySQLdb\n",
    "import mysql.connector as MySQLdb\n",
    "import os\n",
    "import pprint\n",
    "import json\n",
    "%matplotlib inline\n",
    "import numpy as np\n",
    "import matplotlib.pyplot as plt\n",
    "import random"
   ]
  },
  {
   "cell_type": "code",
   "execution_count": 2,
   "metadata": {
    "collapsed": false
   },
   "outputs": [
    {
     "name": "stdout",
     "output_type": "stream",
     "text": [
      "10.1021/La034766z Feedback ID: 384 Species: 1\n",
      "10.1021/La034766z Feedback ID: 385 Species: 1\n",
      "10.1021/La034766z Feedback ID: 386 Species: 1\n",
      "10.1021/La034766z Feedback ID: 387 Species: 1\n",
      "10.1021/La034766z Feedback ID: 388 Species: 1\n",
      "10.1021/La034766z Feedback ID: 389 Species: 1\n",
      "10.1021/La034766z Feedback ID: 390 Species: 1\n",
      "10.1021/La034766z Feedback ID: 391 Species: 1\n",
      "10.1021/La034766z Feedback ID: 392 Species: 4\n",
      "10.1021/La034766z Feedback ID: 393 Species: 3\n",
      "10.1021/La034766z Feedback ID: 394 Species: 3\n",
      "10.1021/La034766z Feedback ID: 395 Species: 1\n",
      "10.1021/La034766z Feedback ID: 396 Species: 3\n",
      "10.1021/La034766z Feedback ID: 397 Species: 1\n",
      "10.1021/La034766z Feedback ID: 398 Species: 1\n",
      "10.1021/La034766z Feedback ID: 399 Species: 1\n",
      "10.1021/La034766z Feedback ID: 400 Species: 1\n",
      "10.1021/La034766z Feedback ID: 401 Species: 1\n",
      "10.1021/La034766z Feedback ID: 402 Species: 1\n",
      "10.1021/La034766z Feedback ID: 403 Species: 1\n",
      "10.1021/La034766z Feedback ID: 404 Species: 1\n",
      "10.1021/La034766z Feedback ID: 405 Species: 1\n",
      "10.1021/La034766z Feedback ID: 406 Species: 1\n",
      "10.1021/La034766z Feedback ID: 831 Species: 4\n",
      "10.1021/La034766z Feedback ID: 850 Species: 3\n",
      "10.1021/La034766z Feedback ID: 851 Species: 1\n",
      "10.1021/La034766z Feedback ID: 852 Species: 3\n",
      "10.1021/La034766z Feedback ID: 853 Species: 3\n",
      "10.1021/La034766z Feedback ID: 854 Species: 3\n"
     ]
    }
   ],
   "source": [
    "db = MySQLdb.connect(host=\"129.6.178.117\",\n",
    "                     port=3433,\n",
    "                     user=\"audit\",\n",
    "                     passwd=\"NIST_SHIP\",\n",
    "                     db=\"DBFEEDBACK_PROD\")\n",
    "#Create a cursor object\n",
    "cur = db.cursor()\n",
    "DOI = 'La034766z'\n",
    "query = \"SELECT * FROM feedbacks WHERE data LIKE '%\"+DOI+\"%'\"\n",
    "#print query\n",
    "cur.execute(query)\n",
    "\n",
    "CI = cur.fetchall()\n",
    "db.close()\n",
    "\n",
    "for result in CI:\n",
    "    payload = json.loads(result[7])\n",
    "    num_species = len(payload[\"isotherm_data\"][0][\"species_data\"])\n",
    "    print(payload[\"DOI\"], 'Feedback ID: '+str(result[0]), 'Species: '+str(num_species))"
   ]
  },
  {
   "cell_type": "code",
   "execution_count": 4,
   "metadata": {
    "collapsed": false
   },
   "outputs": [
    {
     "name": "stdout",
     "output_type": "stream",
     "text": [
      "-2.52287875  -3  0.00335  -3  0.00335  -3  0.00335  \n",
      "-1.52277875  -1.9999  0.00671  -1.9999  0.00671  -1.9999  0.00671  \n",
      "-0.52251191  -1  0.00335  -0.9998  0.02013  -0.9991  0.09057  \n",
      "-0.00270193  -0.4753  0.00671  -0.4914  0.0369  -0.473  0.23145  \n",
      "0.47963104  0.0001  0.01006  0.0008  0.07715  0.0066  0.64067  \n",
      "1.00086169  0.5248  0.01677  0.5261  0.15094  0.5203  1.18071  \n",
      "1.482892524  1.0166  0.02013  1.0021  0.20126  0.9984  1.43899  \n",
      "2.002687135  1.5084  0.02013  1.5272  0.25828  1.5405  1.55304  \n",
      "2.533045387  2.0495  0.02683  2.0524  0.3153  2.0657  1.61342  \n",
      "3.484244135  3.0004  0.0369  3.0041  0.39581  3.0167  1.63354  \n",
      "3.943497828  3.4759  0.04696  3.447  0.42935  3.4756  1.61677  \n",
      "4.473542224  3.9843  0.07044  4.0048  0.46625  3.9999  1.58994  \n",
      "5.080903015  4.5757  0.18784  4.613  0.62725  4.6213  1.44235  \n",
      "5.469104736  4.987  0.33208  4.9926  0.87547  4.9963  1.23438  \n",
      "6.065417929  5.5788  0.49308  5.5852  1.11363  5.6006  1.02306  \n",
      "6.453997317  5.9573  0.63061  5.9802  1.26792  5.9924  0.8587  \n",
      "6.765363582  6.2856  0.67421  6.2921  1.31153  6.287  0.80839  \n",
      "7.066500501  6.5816  0.76813  6.5715  1.38197  6.6139  0.71447  \n",
      "7.481480743  7.0081  0.79497  6.9976  1.36855  7.0073  0.71447  \n",
      "8.072268494  7.5844  1.03312  7.588  1.39203  7.6125  0.58029  \n",
      "8.454931129  7.9625  1.14046  7.9814  1.38868  7.9891  0.53333  \n",
      "\n",
      "10.1021/La034766z\n",
      "Figure 7\n",
      "Julia Chotoo\n",
      "300\n",
      "[{'name': 'Methane', 'InChIKey': 'VNWKTOKETHGBQD-UHFFFAOYSA-N'}, {'name': 'Ethane', 'InChIKey': 'OTMSDBZUPAUEDD-UHFFFAOYSA-N'}, {'name': 'Propane'}]\n",
      "{'name': 'MFI Zeolite'}\n",
      "sim\n"
     ]
    },
    {
     "data": {
      "image/png": "[encoded data removed]",
      "text/plain": [
       "<matplotlib.figure.Figure at 0x8d760b8>"
      ]
     },
     "metadata": {},
     "output_type": "display_data"
    }
   ],
   "source": [
    "#Select individual\n",
    "db = MySQLdb.connect(host=\"129.6.178.117\",\n",
    "                     port=3433,\n",
    "                     user=\"audit\",\n",
    "                     passwd=\"NIST_SHIP\",\n",
    "                     db=\"DBFEEDBACK_PROD\")\n",
    "#Create a cursor object\n",
    "cur = db.cursor()\n",
    "#Get Data for a specific isotherm\n",
    "feedback_ID = 850\n",
    "cur.execute(\"SELECT * FROM feedbacks WHERE id = \"+str(feedback_ID))\n",
    "\n",
    "CI = cur.fetchall()\n",
    "db.close()\n",
    "\n",
    "isotherm = json.loads(CI[0][7])\n",
    "\n",
    "#print pprint.pprint(isotherm)\n",
    "\n",
    "#Pre-read part of the isotherm, determine composition\n",
    "num_species = len(isotherm[\"isotherm_data\"][0][\"species_data\"])\n",
    "if \"total_adsorption\" in isotherm[\"isotherm_data\"][0]:\n",
    "    total_adsorption = True\n",
    "else:\n",
    "    total_adsorption = False\n",
    "\n",
    "#Create data structures\n",
    "pressure = []\n",
    "composition = []\n",
    "adsorption = []\n",
    "for i in range(num_species):\n",
    "    composition.append([])\n",
    "    adsorption.append([])\n",
    "total_adsorption = []\n",
    "\n",
    "#Move data from the JSON dictionary to the data arrays\n",
    "for datapoint in isotherm[\"isotherm_data\"]:\n",
    "    line = ''\n",
    "    pressure.append(float(datapoint[\"pressure\"]))\n",
    "    line = line+str(datapoint[\"pressure\"])+'  '\n",
    "    ##print(datapoint[\"pressure\"],)\n",
    "    for (j,species) in enumerate(datapoint[\"species_data\"]):\n",
    "        composition[j].append(float(species[\"composition\"]))\n",
    "        adsorption[j].append(float(species[\"adsorption\"]))\n",
    "        #print species[\"InChIKey\"],\n",
    "        ##print(species[\"composition\"], species[\"adsorption\"],)\n",
    "        line = line+str(species[\"composition\"])+'  '+str(species[\"adsorption\"])+'  '\n",
    "    if total_adsorption:\n",
    "        total_adsorption.append(float(datapoint[\"total_adsorption\"]))\n",
    "        ##print(datapoint[\"total_adsorption\"],)\n",
    "        line = line + str(datapoint[\"total_adsorption\"])\n",
    "    ##print( '') #Finish the line\n",
    "    print(line)\n",
    "print()\n",
    "    \n",
    "#print pressure\n",
    "#print composition[0]\n",
    "#print adsorption[0]\n",
    "\n",
    "#Output Plot Metadata\n",
    "#print\n",
    "print(isotherm[\"DOI\"])\n",
    "print(isotherm[\"articleSource\"])\n",
    "print(isotherm[\"digitizer\"])\n",
    "print(isotherm[\"temperature\"])\n",
    "print(isotherm[\"adsorbates\"])\n",
    "print(isotherm[\"adsorbent\"])\n",
    "print(isotherm[\"category\"])\n",
    "#print\n",
    "\n",
    "#Plot the isotherm(s) [pressure on x-axis]\n",
    "x = pressure\n",
    "fig = plt.figure()\n",
    "for i in range(num_species):\n",
    "    plt.plot(pressure, adsorption[i],'.-')\n",
    "    #lt.plot(composition[i], adsorption[i],'.-')\n",
    "    #plt.plot(np.log10(pressure), adsorption[i],'.-')\n",
    "    #plt.plot(np.log10(composition[i]), adsorption[i],'.-')\n",
    "plt.show()\n"
   ]
  }
 ],
 "metadata": {
  "anaconda-cloud": {},
  "kernelspec": {
   "display_name": "Python 3",
   "language": "python",
   "name": "python3"
  },
  "language_info": {
   "codemirror_mode": {
    "name": "ipython",
    "version": 3
   },
   "file_extension": ".py",
   "mimetype": "text/x-python",
   "name": "python",
   "nbconvert_exporter": "python",
   "pygments_lexer": "ipython3",
   "version": "3.6.0"
  }
 },
 "nbformat": 4,
 "nbformat_minor": 1
}
