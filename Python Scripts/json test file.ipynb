{
 "cells": [
  {
   "cell_type": "code",
   "execution_count": null,
   "metadata": {
    "collapsed": true
   },
   "outputs": [],
   "source": [
    "import json "
   ]
  },
  {
   "cell_type": "code",
   "execution_count": 41,
   "metadata": {
    "collapsed": false
   },
   "outputs": [
    {
     "name": "stdout",
     "output_type": "stream",
     "text": [
      "{'bob': 'brother', 'job': 'flob'}\n"
     ]
    }
   ],
   "source": [
    "json_test = '{\"bob\" : \"brother\", \"job\" : \"flob\"}'\n",
    "print(json.loads(json_test))"
   ]
  },
  {
   "cell_type": "code",
   "execution_count": 43,
   "metadata": {
    "collapsed": false
   },
   "outputs": [
    {
     "name": "stdout",
     "output_type": "stream",
     "text": [
      "{\"shcrop\": \"dmeomd\", \"flaowpdla\": \"dlapwld\"}\n"
     ]
    }
   ],
   "source": [
    "boop = {\"shcrop\" :\"dmeomd\", \"flaowpdla\":\"dlapwld\"}\n",
    "print(json.dumps(boop))\n",
    "        "
   ]
  },
  {
   "cell_type": "code",
   "execution_count": 37,
   "metadata": {
    "collapsed": true
   },
   "outputs": [],
   "source": [
    "def jparse(x): \n",
    "    print(json.loads(x))"
   ]
  },
  {
   "cell_type": "code",
   "execution_count": 39,
   "metadata": {
    "collapsed": false
   },
   "outputs": [
    {
     "name": "stdout",
     "output_type": "stream",
     "text": [
      "{'bob': 'brother', 'job': 'flob'}\n"
     ]
    }
   ],
   "source": [
    "jparse(json_test)"
   ]
  },
  {
   "cell_type": "code",
   "execution_count": null,
   "metadata": {
    "collapsed": true
   },
   "outputs": [],
   "source": [
    "jsonf= open(\"blahblah.json\", \"r+\")\n",
    "print(jsonloads(jsonf.read())) \n",
    "#don't actually execute this we don't have a file named that"
   ]
  }
 ],
 "metadata": {
  "kernelspec": {
   "display_name": "Python 3",
   "language": "python",
   "name": "python3"
  },
  "language_info": {
   "codemirror_mode": {
    "name": "ipython",
    "version": 3
   },
   "file_extension": ".py",
   "mimetype": "text/x-python",
   "name": "python",
   "nbconvert_exporter": "python",
   "pygments_lexer": "ipython3",
   "version": "3.6.0"
  }
 },
 "nbformat": 4,
 "nbformat_minor": 2
}
